{
 "cells": [
  {
   "cell_type": "code",
   "execution_count": 1,
   "id": "cd38c4f1",
   "metadata": {},
   "outputs": [],
   "source": [
    "def gcd(a,b):\n",
    "    c=1\n",
    "    if b<a:\n",
    "        t=b\n",
    "        b=a\n",
    "        a=t\n",
    "        while (c>0):\n",
    "            c=b%a\n",
    "            print(a,c)\n",
    "            b=a\n",
    "            a=c\n",
    "            continue\n",
    "            print('Gcd =',b)\n",
    "gcd(100,120)  "
   ]
  },
  {
   "cell_type": "code",
   "execution_count": 2,
   "id": "9bf9f5a9",
   "metadata": {},
   "outputs": [
    {
     "name": "stdout",
     "output_type": "stream",
     "text": [
      "hello\n"
     ]
    }
   ],
   "source": [
    "print('hello')"
   ]
  },
  {
   "cell_type": "code",
   "execution_count": 3,
   "id": "6b04fcfc",
   "metadata": {},
   "outputs": [],
   "source": [
    "def gcd(a,b):\n",
    "    c=1\n",
    "    if b<a:\n",
    "        t=b\n",
    "        b=a\n",
    "        a=t\n",
    "        while (c>0):\n",
    "            c=b%a;\n",
    "            print(a,c);\n",
    "            b=a;\n",
    "            a=c;\n",
    "            continue\n",
    "            print('Gcd =',b);\n",
    "gcd(100,120) "
   ]
  },
  {
   "cell_type": "code",
   "execution_count": 4,
   "id": "2d55d81d",
   "metadata": {},
   "outputs": [
    {
     "name": "stdout",
     "output_type": "stream",
     "text": [
      "Enter integer a10\n",
      "Enter integer b20\n",
      "Enter integer m10\n",
      "the congruency solution of congruence is  3.0\n",
      "the congruency solution of congruence is  4.0\n",
      "the congruency solution of congruence is  5.0\n",
      "the congruency solution of congruence is  6.0\n",
      "the congruency solution of congruence is  7.0\n",
      "the congruency solution of congruence is  8.0\n",
      "the congruency solution of congruence is  9.0\n",
      "the congruency solution of congruence is  10.0\n"
     ]
    }
   ],
   "source": [
    "from sympy import *\n",
    "a=int(input('Enter integer a'))\n",
    "b=int(input('Enter integer b'))\n",
    "m=int(input('Enter integer m'))\n",
    "d=gcd(a,m)\n",
    "if b%d!=0:\n",
    "    print('the congruency has no solutiion ');\n",
    "else:\n",
    "    for i in range(1,m-1):\n",
    "        x=m/a*i+b/a\n",
    "        if x//1==x:\n",
    "            print('the congruency solution of congruence is ',x)"
   ]
  },
  {
   "cell_type": "code",
   "execution_count": 5,
   "id": "f1d06551",
   "metadata": {},
   "outputs": [
    {
     "name": "stdout",
     "output_type": "stream",
     "text": [
      "Enter integer a10\n",
      "Enter integer b20\n",
      "Enter integer m10\n",
      "the congruency solution of congruence is  3.0\n",
      "the congruency solution of congruence is  4.0\n",
      "the congruency solution of congruence is  5.0\n",
      "the congruency solution of congruence is  6.0\n",
      "the congruency solution of congruence is  7.0\n",
      "the congruency solution of congruence is  8.0\n",
      "the congruency solution of congruence is  9.0\n",
      "the congruency solution of congruence is  10.0\n"
     ]
    }
   ],
   "source": [
    "from sympy import *\n",
    "a=int(input('Enter integer a'))\n",
    "b=int(input('Enter integer b'))\n",
    "m=int(input('Enter integer m'))\n",
    "d=gcd(a,m)\n",
    "if b%d!=0:\n",
    "    print('the congruency has no solutiion ');\n",
    "else:\n",
    "    for i in range(1,m-1):\n",
    "        x=m/a*i+b/a\n",
    "        if x//1==x:\n",
    "            print('the congruency solution of congruence is ',x)"
   ]
  },
  {
   "cell_type": "code",
   "execution_count": 8,
   "id": "eb2d3d1e",
   "metadata": {},
   "outputs": [
    {
     "name": "stdout",
     "output_type": "stream",
     "text": [
      "6 [1.         0.         0.66666667]\n",
      "7.333333333333333 [ 1.         -0.36363636  0.54545455]\n",
      "7.818181818181818 [ 1.         -0.46511628  0.51162791]\n",
      "7.953488372093023 [ 1.         -0.49122807  0.50292398]\n",
      "7.988304093567251 [ 1.         -0.49780381  0.50073206]\n",
      "7.997071742313324 [ 1.         -0.49945075  0.50018308]\n",
      "7.999267667521054 [ 1.         -0.49986268  0.50004577]\n",
      "7.999816900119015 [ 1.         -0.49996567  0.50001144]\n",
      "7.999954223982057 [ 1.         -0.49999142  0.50000286]\n",
      "7.999988555930031 [ 1.         -0.49999785  0.50000072]\n",
      "Eigenvalue : 7.999988555930031\n",
      "Eigenvector : [ 1.         -0.49999785  0.50000072]\n"
     ]
    }
   ],
   "source": [
    "import numpy as np\n",
    "def normalize(x):\n",
    "    fac=abs(x).max()\n",
    "    x_n=x/fac\n",
    "    return fac,x_n\n",
    "x=np.array([1,1,1])\n",
    "a=np.array([[6,-2,2],[-2,3,-1],[2,-1,3]])\n",
    "for i in range(10):\n",
    "    x=np.dot(a,x)\n",
    "    lambda_1,x=normalize(x)\n",
    "    print(lambda_1,x)\n",
    "print('Eigenvalue :',lambda_1)\n",
    "print('Eigenvector :',x)\n",
    "    \n",
    "    "
   ]
  },
  {
   "cell_type": "code",
   "execution_count": 9,
   "id": "a56d7623",
   "metadata": {},
   "outputs": [
    {
     "name": "stdout",
     "output_type": "stream",
     "text": [
      "6 [1.         0.         0.66666667]\n",
      "7.333333333333333 [ 1.         -0.36363636  0.54545455]\n",
      "7.818181818181818 [ 1.         -0.46511628  0.51162791]\n",
      "7.953488372093023 [ 1.         -0.49122807  0.50292398]\n",
      "7.988304093567251 [ 1.         -0.49780381  0.50073206]\n",
      "7.997071742313324 [ 1.         -0.49945075  0.50018308]\n",
      "7.999267667521054 [ 1.         -0.49986268  0.50004577]\n",
      "7.999816900119015 [ 1.         -0.49996567  0.50001144]\n",
      "7.999954223982057 [ 1.         -0.49999142  0.50000286]\n",
      "7.999988555930031 [ 1.         -0.49999785  0.50000072]\n",
      "7.999988555930031\n",
      "[ 1.         -0.49999785  0.50000072]\n"
     ]
    }
   ],
   "source": [
    "def normalize(x):\n",
    "    fac=abs(x).max()\n",
    "    x_n=x/fac\n",
    "    return fac ,x_n\n",
    "x=np.array([1,1,1])\n",
    "a=np.array([[6,-2,2],[-2,3,-1],[2,-1,3]])\n",
    "for i in range(10):\n",
    "    x=np.dot(a,x)\n",
    "    lambda_1,x=normalize(x)\n",
    "    print(lambda_1,x)\n",
    "print(lambda_1)\n",
    "print(x)"
   ]
  },
  {
   "cell_type": "code",
   "execution_count": null,
   "id": "8f2c8603",
   "metadata": {},
   "outputs": [],
   "source": [
    "\n"
   ]
  }
 ],
 "metadata": {
  "kernelspec": {
   "display_name": "Python 3 (ipykernel)",
   "language": "python",
   "name": "python3"
  },
  "language_info": {
   "codemirror_mode": {
    "name": "ipython",
    "version": 3
   },
   "file_extension": ".py",
   "mimetype": "text/x-python",
   "name": "python",
   "nbconvert_exporter": "python",
   "pygments_lexer": "ipython3",
   "version": "3.9.13"
  }
 },
 "nbformat": 4,
 "nbformat_minor": 5
}
